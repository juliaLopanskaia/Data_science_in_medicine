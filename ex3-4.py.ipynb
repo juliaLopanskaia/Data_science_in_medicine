{
 "cells": [
  {
   "cell_type": "code",
   "execution_count": 24,
   "metadata": {},
   "outputs": [
    {
     "name": "stdout",
     "output_type": "stream",
     "text": [
      "1133 3000 0.37766666666666665 0.375\n"
     ]
    }
   ],
   "source": [
    "# Дополните код Монте-Карло последовательности независимых испытаний \n",
    "# расчетом соответствующих вероятностей (через биномиальное распределение) \n",
    "# и сравните результаты\n",
    "\n",
    "import numpy as np\n",
    "import math\n",
    "\n",
    "k, n = 0, 3000\n",
    "a = np.random.randint(0, 2, n)\n",
    "b = np.random.randint(0, 2, n)\n",
    "c = np.random.randint(0, 2, n)\n",
    "d = np.random.randint(0, 2, n)\n",
    "x = a + b + c + d\n",
    "\n",
    "# событие, когда дважды выпадает единица:\n",
    "for i in range(0, n):\n",
    "    if x[i] == 2:\n",
    "        k = k + 1\n",
    "        \n",
    "c = math.factorial(4) / math.factorial(2) / math.factorial(4-2)\n",
    "v = c * (0.5**2)*(0.5**(4-2))\n",
    "\n",
    "print(k, n, k/n, v)"
   ]
  },
  {
   "cell_type": "code",
   "execution_count": 62,
   "metadata": {},
   "outputs": [
    {
     "name": "stdout",
     "output_type": "stream",
     "text": [
      "447 3000 0.149 0.15625\n"
     ]
    }
   ],
   "source": [
    "# Дополните код Монте-Карло последовательности независимых испытаний \n",
    "# расчетом соответствующих вероятностей (через биномиальное распределение) \n",
    "# и сравните результаты\n",
    "\n",
    "import numpy as np\n",
    "import math\n",
    "\n",
    "k, n = 0, 3000\n",
    "a = np.random.randint(0, 2, n)\n",
    "b = np.random.randint(0, 2, n)\n",
    "c = np.random.randint(0, 2, n)\n",
    "d = np.random.randint(0, 2, n)\n",
    "e = np.random.randint(0, 2, n)\n",
    "x = a + b + c + d + e\n",
    "\n",
    "# событие, когда выпадает всего один ноль:\n",
    "for i in range(0, n):\n",
    "    if x[i] == 4:\n",
    "        k = k + 1\n",
    "        \n",
    "c = math.factorial(5) / math.factorial(1) / math.factorial(5-1)\n",
    "v = c * (0.5**1)*(0.5**(5-1))\n",
    "\n",
    "print(k, n, k/n, v)"
   ]
  },
  {
   "cell_type": "code",
   "execution_count": 50,
   "metadata": {},
   "outputs": [
    {
     "name": "stdout",
     "output_type": "stream",
     "text": [
      "186 3000 0.062 0.0625\n"
     ]
    }
   ],
   "source": [
    "import numpy as np\n",
    "import math\n",
    "\n",
    "k, NUMBER_OF_SIMULATIONS = 0, 3000\n",
    "a = np.random.randint(0, 2, NUMBER_OF_SIMULATIONS)\n",
    "b = np.random.randint(0, 2, NUMBER_OF_SIMULATIONS)\n",
    "c = np.random.randint(0, 2, NUMBER_OF_SIMULATIONS)\n",
    "d = np.random.randint(0, 2, NUMBER_OF_SIMULATIONS)\n",
    "\n",
    "def sum_of_names(*lists):\n",
    "    el_sum = ['']*NUMBER_OF_SIMULATIONS\n",
    "    for l in lists:\n",
    "        for i in range(NUMBER_OF_SIMULATIONS):\n",
    "            el_sum[i] += str(l[i])\n",
    "    return el_sum \n",
    "\n",
    "x = sum_of_names(a, b, c, d)\n",
    "#print(x)\n",
    "# событие, когда сначала выпадает единица, а затем три нуля:\n",
    "for i in range(0, NUMBER_OF_SIMULATIONS):\n",
    "    if x[i] == '1000':\n",
    "        k = k + 1\n",
    "        \n",
    "v = 0.5**4\n",
    "\n",
    "print(k, NUMBER_OF_SIMULATIONS, k/NUMBER_OF_SIMULATIONS, v)"
   ]
  },
  {
   "cell_type": "code",
   "execution_count": 58,
   "metadata": {},
   "outputs": [
    {
     "name": "stdout",
     "output_type": "stream",
     "text": [
      "5616 30000 0.1872 0.1875\n"
     ]
    }
   ],
   "source": [
    "import numpy as np\n",
    "import math\n",
    "\n",
    "k, NUMBER_OF_SIMULATIONS = 0, 30000\n",
    "a = np.random.randint(0, 2, NUMBER_OF_SIMULATIONS)\n",
    "b = np.random.randint(0, 2, NUMBER_OF_SIMULATIONS)\n",
    "c = np.random.randint(0, 2, NUMBER_OF_SIMULATIONS)\n",
    "d = np.random.randint(0, 2, NUMBER_OF_SIMULATIONS)\n",
    "\n",
    "def sum_of_names(*lists):\n",
    "    el_sum = ['']*NUMBER_OF_SIMULATIONS\n",
    "    for l in lists:\n",
    "        for i in range(NUMBER_OF_SIMULATIONS):\n",
    "            el_sum[i] += str(l[i])\n",
    "    return el_sum \n",
    "\n",
    "x = sum_of_names(a, b, c, d)\n",
    "#print(x)\n",
    "# событие, когда сначала выпадает единица, а последним ноль, а посередине хотя бы один ноль:\n",
    "for i in range(0, NUMBER_OF_SIMULATIONS):\n",
    "    if x[i][0] == '1' and x[i][3] == '0' and (x[i][1] == '0' or x[i][2] == '0'):\n",
    "        k = k + 1\n",
    "    \n",
    "v = 0.5 * 0.5 * (1 - 0.5*0.5)\n",
    "\n",
    "print(k, NUMBER_OF_SIMULATIONS, k/NUMBER_OF_SIMULATIONS, v)"
   ]
  },
  {
   "cell_type": "code",
   "execution_count": null,
   "metadata": {},
   "outputs": [],
   "source": []
  },
  {
   "cell_type": "code",
   "execution_count": null,
   "metadata": {},
   "outputs": [],
   "source": []
  }
 ],
 "metadata": {
  "kernelspec": {
   "display_name": "Python 3",
   "language": "python",
   "name": "python3"
  },
  "language_info": {
   "codemirror_mode": {
    "name": "ipython",
    "version": 3
   },
   "file_extension": ".py",
   "mimetype": "text/x-python",
   "name": "python",
   "nbconvert_exporter": "python",
   "pygments_lexer": "ipython3",
   "version": "3.7.6"
  }
 },
 "nbformat": 4,
 "nbformat_minor": 4
}
