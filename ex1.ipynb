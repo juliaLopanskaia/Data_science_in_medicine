{
 "cells": [
  {
   "cell_type": "code",
   "execution_count": 4,
   "metadata": {},
   "outputs": [
    {
     "name": "stdout",
     "output_type": "stream",
     "text": [
      "red [32]\n",
      "press enter\n",
      "red [14]\n",
      "press enter\n",
      "black [8]\n",
      "press enter\n",
      "red [4]\n",
      "press enter\n",
      "red [12]\n",
      "press enter\n"
     ]
    }
   ],
   "source": [
    "# код, моделирующий выпадение поля в рулетке\n",
    "import numpy as np\n",
    "\n",
    "for i in range(5):\n",
    "    n = np.random.randint(0, 35, 1)\n",
    "    if n in [2, 3, 4, 5, 7, 10, 12, 14, 16, 22, 24, 26, 27, 29, 30, 31, 32, 34]:\n",
    "        print('red', n)\n",
    "    elif n in [1, 6, 8, 9, 11, 13, 15, 17, 18, 19, 20, 21, 23, 25, 28, 33]:\n",
    "        print('black', n)\n",
    "    elif n == 0:\n",
    "        print('zero', n)\n",
    "    input('press enter')\n",
    "    "
   ]
  },
  {
   "cell_type": "code",
   "execution_count": 14,
   "metadata": {},
   "outputs": [
    {
     "name": "stdout",
     "output_type": "stream",
     "text": [
      "{'red': 0.522, 'black': 0.438, 'zero': 0.04}\n"
     ]
    }
   ],
   "source": [
    "# проверка вероятности наступления событий\n",
    "import numpy as np\n",
    "\n",
    "NUMBER_OF_SIMULATIONS = 500\n",
    "my_dict = {}\n",
    "my_dict['red'] = 0\n",
    "my_dict['black'] = 0\n",
    "my_dict['zero'] = 0\n",
    "for i in range(NUMBER_OF_SIMULATIONS):\n",
    "    n = np.random.randint(0, 35, 1)\n",
    "    if n in [2, 3, 4, 5, 7, 10, 12, 14, 16, 22, 24, 26, 27, 29, 30, 31, 32, 34]:\n",
    "        my_dict['red'] += 1\n",
    "    elif n in [1, 6, 8, 9, 11, 13, 15, 17, 18, 19, 20, 21, 23, 25, 28, 33]:\n",
    "        my_dict['black'] += 1\n",
    "    elif n == 0:\n",
    "        my_dict['zero'] += 1\n",
    "\n",
    "for key in my_dict.keys():\n",
    "    my_dict[key] /= NUMBER_OF_SIMULATIONS\n",
    "    \n",
    "print(my_dict)\n",
    "   \n"
   ]
  },
  {
   "cell_type": "code",
   "execution_count": null,
   "metadata": {},
   "outputs": [],
   "source": []
  },
  {
   "cell_type": "code",
   "execution_count": null,
   "metadata": {},
   "outputs": [],
   "source": []
  }
 ],
 "metadata": {
  "kernelspec": {
   "display_name": "Python 3",
   "language": "python",
   "name": "python3"
  },
  "language_info": {
   "codemirror_mode": {
    "name": "ipython",
    "version": 3
   },
   "file_extension": ".py",
   "mimetype": "text/x-python",
   "name": "python",
   "nbconvert_exporter": "python",
   "pygments_lexer": "ipython3",
   "version": "3.7.6"
  }
 },
 "nbformat": 4,
 "nbformat_minor": 4
}
