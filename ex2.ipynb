{
 "cells": [
  {
   "cell_type": "code",
   "execution_count": 43,
   "metadata": {},
   "outputs": [
    {
     "name": "stdout",
     "output_type": "stream",
     "text": [
      "the probability of <redred> = 0.26508\n"
     ]
    }
   ],
   "source": [
    "# проверка теоремы умножения вероятности на примере рулетки\n",
    "# какова вероятность выпадения красного поля после красного? Должно быть 18/35 * 18/35 = 0.264\n",
    "import numpy as np\n",
    "\n",
    "NUMBER_OF_SIMULATIONS = 50000\n",
    "\n",
    "def one_simulation(N):\n",
    "    sim_raw = np.random.randint(0, 35, N)\n",
    "    sim = [0]*N\n",
    "\n",
    "    for i in range(N):\n",
    "        if sim_raw[i] in [2, 3, 4, 5, 7, 10, 12, 14, 16, 22, 24, 26, 27, 29, 30, 31, 32, 34]:\n",
    "            sim[i] = 'red'\n",
    "        elif sim_raw[i] in [1, 6, 8, 9, 11, 13, 15, 17, 18, 19, 20, 21, 23, 25, 28, 33]:\n",
    "            sim[i] = 'black'\n",
    "        elif sim_raw[i] == 0:\n",
    "            sim[i] = 'zero'\n",
    "    return sim\n",
    "    \n",
    "def sum_of_names(*lists):\n",
    "    el_sum = ['']*NUMBER_OF_SIMULATIONS\n",
    "    for l in lists:\n",
    "        for i in range(NUMBER_OF_SIMULATIONS):\n",
    "            el_sum[i] += l[i]\n",
    "    return el_sum \n",
    "\n",
    "\n",
    "sim1 = one_simulation(NUMBER_OF_SIMULATIONS)\n",
    "sim2 = one_simulation(NUMBER_OF_SIMULATIONS)\n",
    "\n",
    "sim12 = sum_of_names(sim1, sim2)\n",
    "\n",
    "success = 0\n",
    "for s in sim12:\n",
    "    if s == 'redred':\n",
    "        success += 1\n",
    "\n",
    "print(f'the probability of <redred> = {success/NUMBER_OF_SIMULATIONS}')"
   ]
  },
  {
   "cell_type": "code",
   "execution_count": 42,
   "metadata": {},
   "outputs": [
    {
     "data": {
      "text/plain": [
       "Text(0.5, 1.0, 'Histogram')"
      ]
     },
     "execution_count": 42,
     "metadata": {},
     "output_type": "execute_result"
    },
    {
     "data": {
      "image/png": "[encoded data removed]",
      "text/plain": [
       "<Figure size 432x288 with 1 Axes>"
      ]
     },
     "metadata": {
      "needs_background": "light"
     },
     "output_type": "display_data"
    }
   ],
   "source": [
    "# Сгенерируйте десять выборок случайных чисел х0, …, х9.\n",
    "# и постройте гистограмму распределения случайной суммы  +х0+ …+ х 9\n",
    "import matplotlib.pyplot as plt\n",
    "\n",
    "NUMBER_OF_SIMULATIONS = 12000\n",
    "\n",
    "sim1 = np.random.randint(0, 35, NUMBER_OF_SIMULATIONS)\n",
    "sim2 = np.random.randint(0, 35, NUMBER_OF_SIMULATIONS)\n",
    "sim3 = np.random.randint(0, 35, NUMBER_OF_SIMULATIONS)\n",
    "sim4 = np.random.randint(0, 35, NUMBER_OF_SIMULATIONS)\n",
    "sim5 = np.random.randint(0, 35, NUMBER_OF_SIMULATIONS)\n",
    "sim6 = np.random.randint(0, 35, NUMBER_OF_SIMULATIONS)\n",
    "sim7 = np.random.randint(0, 35, NUMBER_OF_SIMULATIONS)\n",
    "sim8 = np.random.randint(0, 35, NUMBER_OF_SIMULATIONS)\n",
    "sim9 = np.random.randint(0, 35, NUMBER_OF_SIMULATIONS)\n",
    "sim10 = np.random.randint(0, 35, NUMBER_OF_SIMULATIONS)\n",
    "\n",
    "def sum_of_elements(*lists):\n",
    "    el_sum = [0]*NUMBER_OF_SIMULATIONS\n",
    "    for l in lists:\n",
    "        for i in range(NUMBER_OF_SIMULATIONS):\n",
    "            el_sum[i] += l[i]\n",
    "    return el_sum \n",
    "\n",
    "\n",
    "sims = sum_of_elements(sim1, sim2, sim3, sim4, sim5, sim6, sim7, sim8, sim9, sim10)\n",
    "#print(sims)\n",
    "\n",
    "num_bins = 100\n",
    "n, bins, patches = plt.hist(sims, num_bins)\n",
    "plt.xlabel('summa')\n",
    "plt.ylabel('Probability')\n",
    "plt.title('Histogram')"
   ]
  },
  {
   "cell_type": "code",
   "execution_count": null,
   "metadata": {},
   "outputs": [],
   "source": []
  }
 ],
 "metadata": {
  "kernelspec": {
   "display_name": "Python 3",
   "language": "python",
   "name": "python3"
  },
  "language_info": {
   "codemirror_mode": {
    "name": "ipython",
    "version": 3
   },
   "file_extension": ".py",
   "mimetype": "text/x-python",
   "name": "python",
   "nbconvert_exporter": "python",
   "pygments_lexer": "ipython3",
   "version": "3.7.6"
  }
 },
 "nbformat": 4,
 "nbformat_minor": 4
}
